{
 "cells": [
  {
   "cell_type": "code",
   "execution_count": 40,
   "metadata": {},
   "outputs": [],
   "source": [
    "import numpy as np\n",
    "from scipy import stats\n",
    "import pandas as pd\n",
    "import statsmodels.api as sm\n",
    "\n",
    "# 그래프 Visualization\n",
    "import seaborn as sns\n",
    "import matplotlib as mpl\n",
    "import matplotlib.pyplot as plt\n",
    "import matplotlib.font_manager as fm\n",
    "mpl.rcParams['axes.unicode_minus'] = False\n",
    "font_location = '/usr/share/fonts/truetype/nanum/NanumGothic.ttf'\n",
    "font_name = fm.FontProperties(fname = font_location).get_name()\n",
    "mpl.rc('font',family= font_name)\n",
    "import warnings\n",
    "warnings.filterwarnings('ignore')\n",
    "%matplotlib inline\n",
    "\n",
    "### 예측\n",
    "# Decision tree\n",
    "from sklearn.tree import export_graphviz\n",
    "import graphviz\n",
    "from sklearn.model_selection import train_test_split\n",
    "from sklearn.tree import DecisionTreeRegressor\n",
    "from sklearn.model_selection import GridSearchCV\n",
    "#랜덤 포레스트\n",
    "from sklearn.ensemble import RandomForestRegressor\n",
    "#그래디언트 부스팅\n",
    "from sklearn.ensemble import GradientBoostingRegressor\n",
    "# 정규분포 및 회귀분석 등\n",
    "from statsmodels.stats.proportion import proportions_ztest\n",
    "from statsmodels.formula.api import ols\n",
    "from statsmodels.api import qqplot, add_constant\n",
    "import statsmodels.formula.api as smf\n",
    "from statsmodels.tools.eval_measures import rmse\n",
    "# Support Vector Machine (예측)\n",
    "from sklearn.svm import SVR\n",
    "# KNN\n",
    "from sklearn.neighbors import KNeighborsRegressor\n",
    "\n",
    "### 분류\n",
    "#평가함수 (분류)\n",
    "from sklearn.metrics import accuracy_score\n",
    "from sklearn.metrics import confusion_matrix\n",
    "#로지스틱 회귀분석\n",
    "from statsmodels.api import Logit\n",
    "# Decision tree\n",
    "from sklearn.tree import DecisionTreeClassifier\n",
    "# Random Forest\n",
    "from sklearn.ensemble import RandomForestClassifier\n",
    "# Gradient Boosting\n",
    "from sklearn.ensemble import GradientBoostingClassifier\n",
    "# Support Vector Machine (분류)\n",
    "from sklearn.svm import SVC\n",
    "# KNN\n",
    "from sklearn.neighbors import KNeighborsClassifier\n",
    "#XG BOOST\n",
    "from numpy import loadtxt\n",
    "from xgboost import XGBClassifier\n",
    "from xgboost import plot_importance\n",
    "#모델 평가\n",
    "from sklearn.metrics import f1_score, roc_curve, auc\n",
    "\n",
    "#스케일링\n",
    "from sklearn.preprocessing import scale, minmax_scale, robust_scale\n",
    "#다중공선성 확인\n",
    "from statsmodels.stats.outliers_influence import variance_inflation_factor\n",
    "#선형 회귀모형\n",
    "from sklearn.linear_model import LinearRegression\n",
    "#변수선택법 (후진제거법)\n",
    "from sklearn.feature_selection import RFE\n",
    "#스케일 변환 -> 표준화 회귀계수 산출\n",
    "from sklearn.preprocessing import StandardScaler"
   ]
  },
  {
   "cell_type": "code",
   "execution_count": 41,
   "metadata": {},
   "outputs": [
    {
     "data": {
      "text/html": [
       "<div>\n",
       "<style scoped>\n",
       "    .dataframe tbody tr th:only-of-type {\n",
       "        vertical-align: middle;\n",
       "    }\n",
       "\n",
       "    .dataframe tbody tr th {\n",
       "        vertical-align: top;\n",
       "    }\n",
       "\n",
       "    .dataframe thead th {\n",
       "        text-align: right;\n",
       "    }\n",
       "</style>\n",
       "<table border=\"1\" class=\"dataframe\">\n",
       "  <thead>\n",
       "    <tr style=\"text-align: right;\">\n",
       "      <th></th>\n",
       "      <th>CHURN</th>\n",
       "      <th>CUSTOMER_ID</th>\n",
       "      <th>GENDER</th>\n",
       "      <th>AGE</th>\n",
       "      <th>CHARGE_TYPE</th>\n",
       "      <th>HANDSET</th>\n",
       "      <th>USAGE_BAND</th>\n",
       "      <th>SERVICE_DURATION</th>\n",
       "      <th>DROPPED_CALLS</th>\n",
       "      <th>PEAK_CALLS_NO</th>\n",
       "      <th>PEAK_CALLS_TIME</th>\n",
       "      <th>WEEKEND_CALLS_NO</th>\n",
       "      <th>WEEKEND_CALLS_TIME</th>\n",
       "      <th>TOTAL_CALLS_NO</th>\n",
       "      <th>TOTAL_CALLS_TIME</th>\n",
       "    </tr>\n",
       "  </thead>\n",
       "  <tbody>\n",
       "    <tr>\n",
       "      <th>0</th>\n",
       "      <td>Active</td>\n",
       "      <td>K102990</td>\n",
       "      <td>F</td>\n",
       "      <td>31</td>\n",
       "      <td>CAT 100</td>\n",
       "      <td>ASAD170</td>\n",
       "      <td>Med</td>\n",
       "      <td>33.33</td>\n",
       "      <td>6</td>\n",
       "      <td>218</td>\n",
       "      <td>379.8</td>\n",
       "      <td>9</td>\n",
       "      <td>21.6</td>\n",
       "      <td>366</td>\n",
       "      <td>632.4</td>\n",
       "    </tr>\n",
       "    <tr>\n",
       "      <th>1</th>\n",
       "      <td>Active</td>\n",
       "      <td>K103280</td>\n",
       "      <td>M</td>\n",
       "      <td>27</td>\n",
       "      <td>CAT 100</td>\n",
       "      <td>S50</td>\n",
       "      <td>Med</td>\n",
       "      <td>30.87</td>\n",
       "      <td>10</td>\n",
       "      <td>373</td>\n",
       "      <td>656.4</td>\n",
       "      <td>11</td>\n",
       "      <td>28.0</td>\n",
       "      <td>411</td>\n",
       "      <td>810.4</td>\n",
       "    </tr>\n",
       "    <tr>\n",
       "      <th>2</th>\n",
       "      <td>Active</td>\n",
       "      <td>K103660</td>\n",
       "      <td>M</td>\n",
       "      <td>27</td>\n",
       "      <td>CAT 100</td>\n",
       "      <td>ASAD170</td>\n",
       "      <td>Med</td>\n",
       "      <td>49.40</td>\n",
       "      <td>11</td>\n",
       "      <td>260</td>\n",
       "      <td>582.0</td>\n",
       "      <td>0</td>\n",
       "      <td>0.0</td>\n",
       "      <td>265</td>\n",
       "      <td>614.1</td>\n",
       "    </tr>\n",
       "    <tr>\n",
       "      <th>3</th>\n",
       "      <td>Active</td>\n",
       "      <td>K103730</td>\n",
       "      <td>M</td>\n",
       "      <td>61</td>\n",
       "      <td>CAT 100</td>\n",
       "      <td>ASAD170</td>\n",
       "      <td>Med</td>\n",
       "      <td>48.60</td>\n",
       "      <td>1</td>\n",
       "      <td>294</td>\n",
       "      <td>661.8</td>\n",
       "      <td>14</td>\n",
       "      <td>101.5</td>\n",
       "      <td>326</td>\n",
       "      <td>844.0</td>\n",
       "    </tr>\n",
       "    <tr>\n",
       "      <th>4</th>\n",
       "      <td>Active</td>\n",
       "      <td>K104560</td>\n",
       "      <td>F</td>\n",
       "      <td>52</td>\n",
       "      <td>CAT 100</td>\n",
       "      <td>S50</td>\n",
       "      <td>Med</td>\n",
       "      <td>56.03</td>\n",
       "      <td>0</td>\n",
       "      <td>221</td>\n",
       "      <td>555.6</td>\n",
       "      <td>7</td>\n",
       "      <td>25.0</td>\n",
       "      <td>274</td>\n",
       "      <td>673.0</td>\n",
       "    </tr>\n",
       "  </tbody>\n",
       "</table>\n",
       "</div>"
      ],
      "text/plain": [
       "    CHURN CUSTOMER_ID GENDER  AGE CHARGE_TYPE  HANDSET USAGE_BAND  \\\n",
       "0  Active     K102990      F   31     CAT 100  ASAD170        Med   \n",
       "1  Active     K103280      M   27     CAT 100      S50        Med   \n",
       "2  Active     K103660      M   27     CAT 100  ASAD170        Med   \n",
       "3  Active     K103730      M   61     CAT 100  ASAD170        Med   \n",
       "4  Active     K104560      F   52     CAT 100      S50        Med   \n",
       "\n",
       "   SERVICE_DURATION  DROPPED_CALLS  PEAK_CALLS_NO  PEAK_CALLS_TIME  \\\n",
       "0             33.33              6            218            379.8   \n",
       "1             30.87             10            373            656.4   \n",
       "2             49.40             11            260            582.0   \n",
       "3             48.60              1            294            661.8   \n",
       "4             56.03              0            221            555.6   \n",
       "\n",
       "   WEEKEND_CALLS_NO  WEEKEND_CALLS_TIME  TOTAL_CALLS_NO  TOTAL_CALLS_TIME  \n",
       "0                 9                21.6             366             632.4  \n",
       "1                11                28.0             411             810.4  \n",
       "2                 0                 0.0             265             614.1  \n",
       "3                14               101.5             326             844.0  \n",
       "4                 7                25.0             274             673.0  "
      ]
     },
     "execution_count": 41,
     "metadata": {},
     "output_type": "execute_result"
    }
   ],
   "source": [
    "df_raw = pd.read_csv(\"/home/pirl/Statistics/Day3_0715/통신고객이탈.csv\", engine = \"python\", encoding=\"CP949\")\n",
    "df_raw.head()"
   ]
  },
  {
   "cell_type": "code",
   "execution_count": 42,
   "metadata": {},
   "outputs": [
    {
     "data": {
      "text/plain": [
       "CHURN                 0\n",
       "CUSTOMER_ID           0\n",
       "GENDER                0\n",
       "AGE                   0\n",
       "CHARGE_TYPE           0\n",
       "HANDSET               0\n",
       "USAGE_BAND            0\n",
       "SERVICE_DURATION      0\n",
       "DROPPED_CALLS         0\n",
       "PEAK_CALLS_NO         0\n",
       "PEAK_CALLS_TIME       0\n",
       "WEEKEND_CALLS_NO      0\n",
       "WEEKEND_CALLS_TIME    0\n",
       "TOTAL_CALLS_NO        0\n",
       "TOTAL_CALLS_TIME      0\n",
       "dtype: int64"
      ]
     },
     "execution_count": 42,
     "metadata": {},
     "output_type": "execute_result"
    }
   ],
   "source": [
    "df_raw.isnull().sum(axis=0)"
   ]
  },
  {
   "cell_type": "code",
   "execution_count": 43,
   "metadata": {},
   "outputs": [
    {
     "name": "stdout",
     "output_type": "stream",
     "text": [
      "CHURN : 2\n",
      "CUSTOMER_ID : 930\n",
      "GENDER : 2\n",
      "CHARGE_TYPE : 5\n",
      "HANDSET : 11\n",
      "USAGE_BAND : 6\n"
     ]
    }
   ],
   "source": [
    "obj_cols = df_raw.select_dtypes(\"object\").columns\n",
    "for col in obj_cols : \n",
    "    _n = len(df_raw[col].value_counts())\n",
    "    print(col, \":\", str(_n))"
   ]
  },
  {
   "cell_type": "code",
   "execution_count": 44,
   "metadata": {},
   "outputs": [
    {
     "data": {
      "text/html": [
       "<div>\n",
       "<style scoped>\n",
       "    .dataframe tbody tr th:only-of-type {\n",
       "        vertical-align: middle;\n",
       "    }\n",
       "\n",
       "    .dataframe tbody tr th {\n",
       "        vertical-align: top;\n",
       "    }\n",
       "\n",
       "    .dataframe thead th {\n",
       "        text-align: right;\n",
       "    }\n",
       "</style>\n",
       "<table border=\"1\" class=\"dataframe\">\n",
       "  <thead>\n",
       "    <tr style=\"text-align: right;\">\n",
       "      <th></th>\n",
       "      <th>CHURN</th>\n",
       "      <th>CUSTOMER_ID</th>\n",
       "      <th>GENDER</th>\n",
       "      <th>AGE</th>\n",
       "      <th>CHARGE_TYPE</th>\n",
       "      <th>HANDSET</th>\n",
       "      <th>USAGE_BAND</th>\n",
       "      <th>SERVICE_DURATION</th>\n",
       "      <th>DROPPED_CALLS</th>\n",
       "      <th>PEAK_CALLS_NO</th>\n",
       "      <th>PEAK_CALLS_TIME</th>\n",
       "      <th>WEEKEND_CALLS_NO</th>\n",
       "      <th>WEEKEND_CALLS_TIME</th>\n",
       "      <th>TOTAL_CALLS_NO</th>\n",
       "      <th>TOTAL_CALLS_TIME</th>\n",
       "    </tr>\n",
       "  </thead>\n",
       "  <tbody>\n",
       "    <tr>\n",
       "      <th>0</th>\n",
       "      <td>0</td>\n",
       "      <td>K102990</td>\n",
       "      <td>F</td>\n",
       "      <td>31</td>\n",
       "      <td>CAT 100</td>\n",
       "      <td>ASAD170</td>\n",
       "      <td>Med</td>\n",
       "      <td>33.33</td>\n",
       "      <td>6</td>\n",
       "      <td>218</td>\n",
       "      <td>379.8</td>\n",
       "      <td>9</td>\n",
       "      <td>21.6</td>\n",
       "      <td>366</td>\n",
       "      <td>632.4</td>\n",
       "    </tr>\n",
       "    <tr>\n",
       "      <th>1</th>\n",
       "      <td>0</td>\n",
       "      <td>K103280</td>\n",
       "      <td>M</td>\n",
       "      <td>27</td>\n",
       "      <td>CAT 100</td>\n",
       "      <td>S50</td>\n",
       "      <td>Med</td>\n",
       "      <td>30.87</td>\n",
       "      <td>10</td>\n",
       "      <td>373</td>\n",
       "      <td>656.4</td>\n",
       "      <td>11</td>\n",
       "      <td>28.0</td>\n",
       "      <td>411</td>\n",
       "      <td>810.4</td>\n",
       "    </tr>\n",
       "    <tr>\n",
       "      <th>2</th>\n",
       "      <td>0</td>\n",
       "      <td>K103660</td>\n",
       "      <td>M</td>\n",
       "      <td>27</td>\n",
       "      <td>CAT 100</td>\n",
       "      <td>ASAD170</td>\n",
       "      <td>Med</td>\n",
       "      <td>49.40</td>\n",
       "      <td>11</td>\n",
       "      <td>260</td>\n",
       "      <td>582.0</td>\n",
       "      <td>0</td>\n",
       "      <td>0.0</td>\n",
       "      <td>265</td>\n",
       "      <td>614.1</td>\n",
       "    </tr>\n",
       "    <tr>\n",
       "      <th>3</th>\n",
       "      <td>0</td>\n",
       "      <td>K103730</td>\n",
       "      <td>M</td>\n",
       "      <td>61</td>\n",
       "      <td>CAT 100</td>\n",
       "      <td>ASAD170</td>\n",
       "      <td>Med</td>\n",
       "      <td>48.60</td>\n",
       "      <td>1</td>\n",
       "      <td>294</td>\n",
       "      <td>661.8</td>\n",
       "      <td>14</td>\n",
       "      <td>101.5</td>\n",
       "      <td>326</td>\n",
       "      <td>844.0</td>\n",
       "    </tr>\n",
       "    <tr>\n",
       "      <th>4</th>\n",
       "      <td>0</td>\n",
       "      <td>K104560</td>\n",
       "      <td>F</td>\n",
       "      <td>52</td>\n",
       "      <td>CAT 100</td>\n",
       "      <td>S50</td>\n",
       "      <td>Med</td>\n",
       "      <td>56.03</td>\n",
       "      <td>0</td>\n",
       "      <td>221</td>\n",
       "      <td>555.6</td>\n",
       "      <td>7</td>\n",
       "      <td>25.0</td>\n",
       "      <td>274</td>\n",
       "      <td>673.0</td>\n",
       "    </tr>\n",
       "  </tbody>\n",
       "</table>\n",
       "</div>"
      ],
      "text/plain": [
       "   CHURN CUSTOMER_ID GENDER  AGE CHARGE_TYPE  HANDSET USAGE_BAND  \\\n",
       "0      0     K102990      F   31     CAT 100  ASAD170        Med   \n",
       "1      0     K103280      M   27     CAT 100      S50        Med   \n",
       "2      0     K103660      M   27     CAT 100  ASAD170        Med   \n",
       "3      0     K103730      M   61     CAT 100  ASAD170        Med   \n",
       "4      0     K104560      F   52     CAT 100      S50        Med   \n",
       "\n",
       "   SERVICE_DURATION  DROPPED_CALLS  PEAK_CALLS_NO  PEAK_CALLS_TIME  \\\n",
       "0             33.33              6            218            379.8   \n",
       "1             30.87             10            373            656.4   \n",
       "2             49.40             11            260            582.0   \n",
       "3             48.60              1            294            661.8   \n",
       "4             56.03              0            221            555.6   \n",
       "\n",
       "   WEEKEND_CALLS_NO  WEEKEND_CALLS_TIME  TOTAL_CALLS_NO  TOTAL_CALLS_TIME  \n",
       "0                 9                21.6             366             632.4  \n",
       "1                11                28.0             411             810.4  \n",
       "2                 0                 0.0             265             614.1  \n",
       "3                14               101.5             326             844.0  \n",
       "4                 7                25.0             274             673.0  "
      ]
     },
     "execution_count": 44,
     "metadata": {},
     "output_type": "execute_result"
    }
   ],
   "source": [
    "df_raw[\"CHURN\"] = np.where(df_raw['CHURN'] == \"Churned\",1,0)\n",
    "df_raw.head()"
   ]
  },
  {
   "cell_type": "code",
   "execution_count": 45,
   "metadata": {},
   "outputs": [
    {
     "data": {
      "text/plain": [
       "180"
      ]
     },
     "execution_count": 45,
     "metadata": {},
     "output_type": "execute_result"
    }
   ],
   "source": [
    "df_raw[\"CHURN\"].sum()"
   ]
  },
  {
   "cell_type": "code",
   "execution_count": 46,
   "metadata": {},
   "outputs": [
    {
     "data": {
      "text/html": [
       "<div>\n",
       "<style scoped>\n",
       "    .dataframe tbody tr th:only-of-type {\n",
       "        vertical-align: middle;\n",
       "    }\n",
       "\n",
       "    .dataframe tbody tr th {\n",
       "        vertical-align: top;\n",
       "    }\n",
       "\n",
       "    .dataframe thead th {\n",
       "        text-align: right;\n",
       "    }\n",
       "</style>\n",
       "<table border=\"1\" class=\"dataframe\">\n",
       "  <thead>\n",
       "    <tr style=\"text-align: right;\">\n",
       "      <th></th>\n",
       "      <th>CHURN</th>\n",
       "      <th>AGE</th>\n",
       "      <th>SERVICE_DURATION</th>\n",
       "      <th>DROPPED_CALLS</th>\n",
       "      <th>PEAK_CALLS_NO</th>\n",
       "      <th>PEAK_CALLS_TIME</th>\n",
       "      <th>WEEKEND_CALLS_NO</th>\n",
       "      <th>WEEKEND_CALLS_TIME</th>\n",
       "      <th>TOTAL_CALLS_NO</th>\n",
       "      <th>TOTAL_CALLS_TIME</th>\n",
       "      <th>...</th>\n",
       "      <th>HANDSET_S80</th>\n",
       "      <th>HANDSET_SOP10</th>\n",
       "      <th>HANDSET_SOP20</th>\n",
       "      <th>HANDSET_WC95</th>\n",
       "      <th>USAGE_BAND_High</th>\n",
       "      <th>USAGE_BAND_Low</th>\n",
       "      <th>USAGE_BAND_Med</th>\n",
       "      <th>USAGE_BAND_MedHigh</th>\n",
       "      <th>USAGE_BAND_MedLow</th>\n",
       "      <th>USAGE_BAND_None</th>\n",
       "    </tr>\n",
       "  </thead>\n",
       "  <tbody>\n",
       "    <tr>\n",
       "      <th>0</th>\n",
       "      <td>0</td>\n",
       "      <td>31</td>\n",
       "      <td>33.33</td>\n",
       "      <td>6</td>\n",
       "      <td>218</td>\n",
       "      <td>379.8</td>\n",
       "      <td>9</td>\n",
       "      <td>21.6</td>\n",
       "      <td>366</td>\n",
       "      <td>632.4</td>\n",
       "      <td>...</td>\n",
       "      <td>0</td>\n",
       "      <td>0</td>\n",
       "      <td>0</td>\n",
       "      <td>0</td>\n",
       "      <td>0</td>\n",
       "      <td>0</td>\n",
       "      <td>1</td>\n",
       "      <td>0</td>\n",
       "      <td>0</td>\n",
       "      <td>0</td>\n",
       "    </tr>\n",
       "    <tr>\n",
       "      <th>1</th>\n",
       "      <td>0</td>\n",
       "      <td>27</td>\n",
       "      <td>30.87</td>\n",
       "      <td>10</td>\n",
       "      <td>373</td>\n",
       "      <td>656.4</td>\n",
       "      <td>11</td>\n",
       "      <td>28.0</td>\n",
       "      <td>411</td>\n",
       "      <td>810.4</td>\n",
       "      <td>...</td>\n",
       "      <td>0</td>\n",
       "      <td>0</td>\n",
       "      <td>0</td>\n",
       "      <td>0</td>\n",
       "      <td>0</td>\n",
       "      <td>0</td>\n",
       "      <td>1</td>\n",
       "      <td>0</td>\n",
       "      <td>0</td>\n",
       "      <td>0</td>\n",
       "    </tr>\n",
       "    <tr>\n",
       "      <th>2</th>\n",
       "      <td>0</td>\n",
       "      <td>27</td>\n",
       "      <td>49.40</td>\n",
       "      <td>11</td>\n",
       "      <td>260</td>\n",
       "      <td>582.0</td>\n",
       "      <td>0</td>\n",
       "      <td>0.0</td>\n",
       "      <td>265</td>\n",
       "      <td>614.1</td>\n",
       "      <td>...</td>\n",
       "      <td>0</td>\n",
       "      <td>0</td>\n",
       "      <td>0</td>\n",
       "      <td>0</td>\n",
       "      <td>0</td>\n",
       "      <td>0</td>\n",
       "      <td>1</td>\n",
       "      <td>0</td>\n",
       "      <td>0</td>\n",
       "      <td>0</td>\n",
       "    </tr>\n",
       "    <tr>\n",
       "      <th>3</th>\n",
       "      <td>0</td>\n",
       "      <td>61</td>\n",
       "      <td>48.60</td>\n",
       "      <td>1</td>\n",
       "      <td>294</td>\n",
       "      <td>661.8</td>\n",
       "      <td>14</td>\n",
       "      <td>101.5</td>\n",
       "      <td>326</td>\n",
       "      <td>844.0</td>\n",
       "      <td>...</td>\n",
       "      <td>0</td>\n",
       "      <td>0</td>\n",
       "      <td>0</td>\n",
       "      <td>0</td>\n",
       "      <td>0</td>\n",
       "      <td>0</td>\n",
       "      <td>1</td>\n",
       "      <td>0</td>\n",
       "      <td>0</td>\n",
       "      <td>0</td>\n",
       "    </tr>\n",
       "    <tr>\n",
       "      <th>4</th>\n",
       "      <td>0</td>\n",
       "      <td>52</td>\n",
       "      <td>56.03</td>\n",
       "      <td>0</td>\n",
       "      <td>221</td>\n",
       "      <td>555.6</td>\n",
       "      <td>7</td>\n",
       "      <td>25.0</td>\n",
       "      <td>274</td>\n",
       "      <td>673.0</td>\n",
       "      <td>...</td>\n",
       "      <td>0</td>\n",
       "      <td>0</td>\n",
       "      <td>0</td>\n",
       "      <td>0</td>\n",
       "      <td>0</td>\n",
       "      <td>0</td>\n",
       "      <td>1</td>\n",
       "      <td>0</td>\n",
       "      <td>0</td>\n",
       "      <td>0</td>\n",
       "    </tr>\n",
       "  </tbody>\n",
       "</table>\n",
       "<p>5 rows × 964 columns</p>\n",
       "</div>"
      ],
      "text/plain": [
       "   CHURN  AGE  SERVICE_DURATION  DROPPED_CALLS  PEAK_CALLS_NO  \\\n",
       "0      0   31             33.33              6            218   \n",
       "1      0   27             30.87             10            373   \n",
       "2      0   27             49.40             11            260   \n",
       "3      0   61             48.60              1            294   \n",
       "4      0   52             56.03              0            221   \n",
       "\n",
       "   PEAK_CALLS_TIME  WEEKEND_CALLS_NO  WEEKEND_CALLS_TIME  TOTAL_CALLS_NO  \\\n",
       "0            379.8                 9                21.6             366   \n",
       "1            656.4                11                28.0             411   \n",
       "2            582.0                 0                 0.0             265   \n",
       "3            661.8                14               101.5             326   \n",
       "4            555.6                 7                25.0             274   \n",
       "\n",
       "   TOTAL_CALLS_TIME  ...  HANDSET_S80  HANDSET_SOP10  HANDSET_SOP20  \\\n",
       "0             632.4  ...            0              0              0   \n",
       "1             810.4  ...            0              0              0   \n",
       "2             614.1  ...            0              0              0   \n",
       "3             844.0  ...            0              0              0   \n",
       "4             673.0  ...            0              0              0   \n",
       "\n",
       "   HANDSET_WC95  USAGE_BAND_High  USAGE_BAND_Low  USAGE_BAND_Med  \\\n",
       "0             0                0               0               1   \n",
       "1             0                0               0               1   \n",
       "2             0                0               0               1   \n",
       "3             0                0               0               1   \n",
       "4             0                0               0               1   \n",
       "\n",
       "   USAGE_BAND_MedHigh  USAGE_BAND_MedLow  USAGE_BAND_None  \n",
       "0                   0                  0                0  \n",
       "1                   0                  0                0  \n",
       "2                   0                  0                0  \n",
       "3                   0                  0                0  \n",
       "4                   0                  0                0  \n",
       "\n",
       "[5 rows x 964 columns]"
      ]
     },
     "execution_count": 46,
     "metadata": {},
     "output_type": "execute_result"
    }
   ],
   "source": [
    "df_raw_dummy = pd.get_dummies(df_raw)\n",
    "df_raw_dummy.head()"
   ]
  },
  {
   "cell_type": "code",
   "execution_count": 47,
   "metadata": {},
   "outputs": [],
   "source": [
    "df_raw_x = df_raw_dummy.drop(\"CHURN\", axis = 1, inplace =False)\n",
    "df_raw_y = df_raw_dummy[\"CHURN\"]"
   ]
  },
  {
   "cell_type": "code",
   "execution_count": 48,
   "metadata": {},
   "outputs": [
    {
     "name": "stdout",
     "output_type": "stream",
     "text": [
      "train data X size : (651, 963)\n",
      "train data Y size : (651,)\n",
      "test data X size : (279, 963)\n",
      "test data Y size : (279,)\n"
     ]
    }
   ],
   "source": [
    "df_train_x, df_test_x, df_train_y, df_test_y = train_test_split(df_raw_x, df_raw_y,\n",
    "                                                                test_size = 0.3, random_state=1234)\n",
    "print(\"train data X size : {}\".format(df_train_x.shape))\n",
    "print(\"train data Y size : {}\".format(df_train_y.shape))\n",
    "print(\"test data X size : {}\".format(df_test_x.shape))\n",
    "print(\"test data Y size : {}\".format(df_test_y.shape))"
   ]
  },
  {
   "cell_type": "code",
   "execution_count": 49,
   "metadata": {},
   "outputs": [],
   "source": [
    "model = [\"DecisionTree\", \"RandomForest\",\"GradientBoosting\",\"KNN\"]\n",
    "\n",
    "train_accuracy = [] ; test_accuracy= []\n",
    "model_f1_score = []\n",
    "model_auc = []"
   ]
  },
  {
   "cell_type": "code",
   "execution_count": 50,
   "metadata": {},
   "outputs": [],
   "source": [
    "dt_model = DecisionTreeClassifier(max_depth=4, min_samples_leaf=30)\n",
    "dt_model.fit(df_train_x, df_train_y)\n",
    "\n",
    "train_accuracy.append(dt_model.score(df_train_x, df_train_y))\n",
    "test_accuracy.append(dt_model.score(df_test_x, df_test_y))\n",
    "\n",
    "y_pred = dt_model.predict(df_test_x)\n",
    "\n",
    "fpr, tpr, thresholds = roc_curve(df_test_y, y_pred)\n",
    "roc_auc = auc(fpr, tpr)\n",
    "\n",
    "model_auc.append(roc_auc)"
   ]
  },
  {
   "cell_type": "code",
   "execution_count": 51,
   "metadata": {},
   "outputs": [
    {
     "data": {
      "image/png": "[encoded data removed]",
      "text/plain": [
       "<Figure size 432x288 with 1 Axes>"
      ]
     },
     "metadata": {
      "needs_background": "light"
     },
     "output_type": "display_data"
    }
   ],
   "source": [
    "plt.plot(fpr, tpr, label =\"AUC = %0.2f\"% roc_auc)\n",
    "plt.legend(loc=\"lower right\")\n",
    "plt.ylabel(\"TPR\");plt.xlabel(\"FPR\")\n",
    "plt.show()"
   ]
  },
  {
   "cell_type": "code",
   "execution_count": 52,
   "metadata": {},
   "outputs": [],
   "source": [
    "model_f1_score.append(f1_score(df_test_y, y_pred))"
   ]
  },
  {
   "cell_type": "code",
   "execution_count": 53,
   "metadata": {},
   "outputs": [],
   "source": [
    "rf_model = RandomForestClassifier(max_depth=4, min_samples_leaf=20, n_estimators = 100, random_state= 1234)\n",
    "rf_model.fit(df_train_x, df_train_y)\n",
    "\n",
    "train_accuracy.append(rf_model.score(df_train_x, df_train_y))\n",
    "test_accuracy.append(rf_model.score(df_test_x, df_test_y))\n",
    "\n",
    "y_pred = rf_model.predict(df_test_x)\n",
    "\n",
    "fpr, tpr, thresholds = roc_curve(df_test_y, y_pred)\n",
    "roc_auc = auc(fpr, tpr)\n",
    "\n",
    "model_auc.append(roc_auc)"
   ]
  },
  {
   "cell_type": "code",
   "execution_count": 54,
   "metadata": {},
   "outputs": [
    {
     "data": {
      "image/png": "[encoded data removed]",
      "text/plain": [
       "<Figure size 432x288 with 1 Axes>"
      ]
     },
     "metadata": {
      "needs_background": "light"
     },
     "output_type": "display_data"
    }
   ],
   "source": [
    "plt.plot(fpr, tpr, label =\"AUC = %0.2f\"% roc_auc)\n",
    "plt.legend(loc=\"lower right\")\n",
    "plt.ylabel(\"TPR\");plt.xlabel(\"FPR\")\n",
    "plt.show()"
   ]
  },
  {
   "cell_type": "code",
   "execution_count": 55,
   "metadata": {},
   "outputs": [],
   "source": [
    "model_f1_score.append(f1_score(df_test_y, y_pred))"
   ]
  },
  {
   "cell_type": "code",
   "execution_count": 56,
   "metadata": {},
   "outputs": [],
   "source": [
    "gb_model = GradientBoostingClassifier(max_depth=4, min_samples_leaf=10, n_estimators = 100,learning_rate=0.1, random_state= 1234)\n",
    "gb_model.fit(df_train_x, df_train_y)\n",
    "\n",
    "train_accuracy.append(gb_model.score(df_train_x, df_train_y))\n",
    "test_accuracy.append(gb_model.score(df_test_x, df_test_y))\n",
    "\n",
    "y_pred = gb_model.predict(df_test_x)\n",
    "\n",
    "fpr, tpr, thresholds = roc_curve(df_test_y, y_pred)\n",
    "roc_auc = auc(fpr, tpr)\n",
    "\n",
    "model_auc.append(roc_auc)"
   ]
  },
  {
   "cell_type": "code",
   "execution_count": 57,
   "metadata": {},
   "outputs": [
    {
     "data": {
      "image/png": "[encoded data removed]",
      "text/plain": [
       "<Figure size 432x288 with 1 Axes>"
      ]
     },
     "metadata": {
      "needs_background": "light"
     },
     "output_type": "display_data"
    }
   ],
   "source": [
    "plt.plot(fpr, tpr, label =\"AUC = %0.2f\"% roc_auc)\n",
    "plt.legend(loc=\"lower right\")\n",
    "plt.ylabel(\"TPR\");plt.xlabel(\"FPR\")\n",
    "plt.show()"
   ]
  },
  {
   "cell_type": "code",
   "execution_count": 58,
   "metadata": {},
   "outputs": [],
   "source": [
    "model_f1_score.append(f1_score(df_test_y, y_pred))"
   ]
  },
  {
   "cell_type": "code",
   "execution_count": 59,
   "metadata": {},
   "outputs": [],
   "source": [
    "knn_model = KNeighborsClassifier(n_neighbors=4, weights=\"uniform\", metric=\"euclidean\")\n",
    "knn_model.fit(df_train_x, df_train_y)\n",
    "\n",
    "train_accuracy.append(knn_model.score(df_train_x, df_train_y))\n",
    "test_accuracy.append(knn_model.score(df_test_x, df_test_y))\n",
    "\n",
    "y_pred = knn_model.predict(df_test_x)\n",
    "\n",
    "fpr, tpr, thresholds = roc_curve(df_test_y, y_pred)\n",
    "roc_auc = auc(fpr, tpr)\n",
    "\n",
    "model_auc.append(roc_auc)"
   ]
  },
  {
   "cell_type": "code",
   "execution_count": 60,
   "metadata": {},
   "outputs": [
    {
     "data": {
      "image/png": "[encoded data removed]",
      "text/plain": [
       "<Figure size 432x288 with 1 Axes>"
      ]
     },
     "metadata": {
      "needs_background": "light"
     },
     "output_type": "display_data"
    }
   ],
   "source": [
    "plt.plot(fpr, tpr, label =\"AUC = %0.2f\"% roc_auc)\n",
    "plt.legend(loc=\"lower right\")\n",
    "plt.ylabel(\"TPR\");plt.xlabel(\"FPR\")\n",
    "plt.show()"
   ]
  },
  {
   "cell_type": "code",
   "execution_count": 61,
   "metadata": {},
   "outputs": [],
   "source": [
    "model_f1_score.append(f1_score(df_test_y, y_pred))"
   ]
  },
  {
   "cell_type": "code",
   "execution_count": 62,
   "metadata": {},
   "outputs": [
    {
     "data": {
      "text/html": [
       "<div>\n",
       "<style scoped>\n",
       "    .dataframe tbody tr th:only-of-type {\n",
       "        vertical-align: middle;\n",
       "    }\n",
       "\n",
       "    .dataframe tbody tr th {\n",
       "        vertical-align: top;\n",
       "    }\n",
       "\n",
       "    .dataframe thead th {\n",
       "        text-align: right;\n",
       "    }\n",
       "</style>\n",
       "<table border=\"1\" class=\"dataframe\">\n",
       "  <thead>\n",
       "    <tr style=\"text-align: right;\">\n",
       "      <th></th>\n",
       "      <th>TrainAccuracy</th>\n",
       "      <th>TestAccuracy</th>\n",
       "      <th>F1Score</th>\n",
       "      <th>AUC</th>\n",
       "    </tr>\n",
       "  </thead>\n",
       "  <tbody>\n",
       "    <tr>\n",
       "      <th>DecisionTree</th>\n",
       "      <td>0.848</td>\n",
       "      <td>0.871</td>\n",
       "      <td>0.500</td>\n",
       "      <td>0.683</td>\n",
       "    </tr>\n",
       "    <tr>\n",
       "      <th>RandomForest</th>\n",
       "      <td>0.791</td>\n",
       "      <td>0.842</td>\n",
       "      <td>0.000</td>\n",
       "      <td>0.500</td>\n",
       "    </tr>\n",
       "    <tr>\n",
       "      <th>GradientBoosting</th>\n",
       "      <td>0.986</td>\n",
       "      <td>0.882</td>\n",
       "      <td>0.621</td>\n",
       "      <td>0.773</td>\n",
       "    </tr>\n",
       "    <tr>\n",
       "      <th>KNN</th>\n",
       "      <td>0.825</td>\n",
       "      <td>0.821</td>\n",
       "      <td>0.074</td>\n",
       "      <td>0.506</td>\n",
       "    </tr>\n",
       "  </tbody>\n",
       "</table>\n",
       "</div>"
      ],
      "text/plain": [
       "                  TrainAccuracy  TestAccuracy  F1Score    AUC\n",
       "DecisionTree              0.848         0.871    0.500  0.683\n",
       "RandomForest              0.791         0.842    0.000  0.500\n",
       "GradientBoosting          0.986         0.882    0.621  0.773\n",
       "KNN                       0.825         0.821    0.074  0.506"
      ]
     },
     "execution_count": 62,
     "metadata": {},
     "output_type": "execute_result"
    }
   ],
   "source": [
    "df_eval = pd.DataFrame(index=model)\n",
    "df_eval[\"TrainAccuracy\"] = train_accuracy\n",
    "df_eval[\"TestAccuracy\"] = test_accuracy\n",
    "df_eval[\"F1Score\"] = model_f1_score\n",
    "df_eval[\"AUC\"] = model_auc\n",
    "df_eval.round(3)"
   ]
  },
  {
   "cell_type": "code",
   "execution_count": 63,
   "metadata": {},
   "outputs": [
    {
     "data": {
      "image/png": "[encoded data removed]",
      "text/plain": [
       "<Figure size 432x288 with 1 Axes>"
      ]
     },
     "metadata": {
      "needs_background": "light"
     },
     "output_type": "display_data"
    }
   ],
   "source": [
    "df_eval.plot.bar(rot=0)\n",
    "plt.legend(loc=\"lower right\")\n",
    "plt.grid(axis = \"y\")"
   ]
  }
 ],
 "metadata": {
  "kernelspec": {
   "display_name": "Python 3",
   "language": "python",
   "name": "python3"
  },
  "language_info": {
   "codemirror_mode": {
    "name": "ipython",
    "version": 3
   },
   "file_extension": ".py",
   "mimetype": "text/x-python",
   "name": "python",
   "nbconvert_exporter": "python",
   "pygments_lexer": "ipython3",
   "version": "3.7.3"
  }
 },
 "nbformat": 4,
 "nbformat_minor": 2
}
